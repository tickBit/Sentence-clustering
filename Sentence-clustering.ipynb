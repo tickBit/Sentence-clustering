{
 "cells": [
  {
   "cell_type": "code",
   "execution_count": 28,
   "metadata": {},
   "outputs": [],
   "source": [
    "import wikipediaapi\n",
    "\n",
    "secs = []\n",
    "\n",
    "def get_sections(sections, level=0):\n",
    "    for s in sections:\n",
    "        if \"references\" not in s.title.lower() and \"links\" not in s.title.lower() and \"gallery\" not in s.title.lower():\n",
    "        \n",
    "            txt = s.text\n",
    "            if txt != \"\": secs.append(txt)\n",
    "        get_sections(s.sections, level + 1)\n",
    "\n",
    "wiki_wiki = wikipediaapi.Wikipedia('en')\n",
    "\n",
    "\n",
    "page = wiki_wiki.page(\"Artturi Ilmari Virtanen\")\n",
    "\n",
    "get_sections(page.sections)\n",
    "\n",
    "wholePage = \" \".join(s for s in secs)\n"
   ]
  },
  {
   "cell_type": "code",
   "execution_count": 29,
   "metadata": {},
   "outputs": [],
   "source": [
    "import spacy\n",
    "# You can use \"en_core_web_md\" or \"en_core_web_sm\", if you want\n",
    "nlp = spacy.load(\"en_core_web_lg\")"
   ]
  },
  {
   "cell_type": "code",
   "execution_count": 30,
   "metadata": {},
   "outputs": [
    {
     "data": {
      "text/plain": [
       "36"
      ]
     },
     "execution_count": 30,
     "metadata": {},
     "output_type": "execute_result"
    }
   ],
   "source": [
    "sents = []\n",
    "for sent in nlp(wholePage).sents:\n",
    "    sents.append(sent.text)\n",
    "len(sents)"
   ]
  },
  {
   "cell_type": "code",
   "execution_count": 31,
   "metadata": {},
   "outputs": [],
   "source": [
    "import numpy as np\n",
    "from semantic_text_similarity.models import WebBertSimilarity"
   ]
  },
  {
   "cell_type": "code",
   "execution_count": 32,
   "metadata": {},
   "outputs": [],
   "source": [
    "# You can use \"cuda\" instead of \"cpu\", if you have GPU\n",
    "# I couldn't load the model in Windows, but in Linux the below line works just fine\n",
    "web_model = WebBertSimilarity(device='cpu', batch_size=10)"
   ]
  },
  {
   "cell_type": "code",
   "execution_count": 33,
   "metadata": {},
   "outputs": [
    {
     "data": {
      "text/plain": [
       "36"
      ]
     },
     "execution_count": 33,
     "metadata": {},
     "output_type": "execute_result"
    }
   ],
   "source": [
    "# the following loops might take over an hour depending the computing power of your machine\n",
    "simMatrix = []\n",
    "for i, a in enumerate(sents):\n",
    "    sentM = []\n",
    "    for j, b in enumerate(sents):\n",
    "        if i != j:\n",
    "            sim = web_model.predict([(a,b)])[0]\n",
    "            sentM.append(sim)\n",
    "    simMatrix.append(sentM)\n",
    "matrix = np.array(simMatrix)\n",
    "len(matrix)"
   ]
  },
  {
   "cell_type": "code",
   "execution_count": 34,
   "metadata": {},
   "outputs": [],
   "source": [
    "# save the numpy array to file..\n",
    "# you might want to load the calculated array from the file later...\n",
    "# https://numpy.org/doc/stable/reference/generated/numpy.save.html\n",
    "with open(\"matrix.npy\", \"wb\") as f:\n",
    "    np.save(f, matrix)"
   ]
  },
  {
   "cell_type": "code",
   "execution_count": 35,
   "metadata": {},
   "outputs": [
    {
     "data": {
      "text/plain": [
       "(36, 35)"
      ]
     },
     "execution_count": 35,
     "metadata": {},
     "output_type": "execute_result"
    }
   ],
   "source": [
    "matrix.shape"
   ]
  },
  {
   "cell_type": "code",
   "execution_count": 36,
   "metadata": {},
   "outputs": [],
   "source": [
    "from sklearn.cluster import KMeans"
   ]
  },
  {
   "cell_type": "code",
   "execution_count": 37,
   "metadata": {},
   "outputs": [],
   "source": [
    "MAX_CLUSTERS = 4\n",
    "# depending on your Python version, you might need to replace n_init=number, where number is 10 for example\n",
    "kmeans = KMeans(n_clusters=MAX_CLUSTERS, random_state=42, init=\"random\", n_init=\"auto\").fit(matrix)"
   ]
  },
  {
   "cell_type": "code",
   "execution_count": 38,
   "metadata": {},
   "outputs": [
    {
     "data": {
      "text/plain": [
       "array([3, 3, 3, 3, 3, 1, 1, 1, 3, 3, 2, 2, 2, 3, 2, 3, 3, 2, 1, 2, 1, 2,\n",
       "       2, 1, 1, 1, 0, 1, 1, 1, 2, 0, 0, 0, 0, 0], dtype=int32)"
      ]
     },
     "execution_count": 38,
     "metadata": {},
     "output_type": "execute_result"
    }
   ],
   "source": [
    "kmeans.labels_"
   ]
  },
  {
   "cell_type": "code",
   "execution_count": 39,
   "metadata": {},
   "outputs": [
    {
     "data": {
      "text/plain": [
       "36"
      ]
     },
     "execution_count": 39,
     "metadata": {},
     "output_type": "execute_result"
    }
   ],
   "source": [
    "len(kmeans.labels_)"
   ]
  },
  {
   "cell_type": "code",
   "execution_count": 40,
   "metadata": {},
   "outputs": [],
   "source": [
    "index = [[k] for k in range(MAX_CLUSTERS)]\n",
    "\n",
    "for k in range(MAX_CLUSTERS):\n",
    "    for i, cluster in enumerate(kmeans.labels_):\n",
    "        if k == cluster:\n",
    "            index[k].append(i)\n",
    "    index[k].pop(0)"
   ]
  },
  {
   "cell_type": "code",
   "execution_count": 41,
   "metadata": {},
   "outputs": [
    {
     "data": {
      "text/plain": [
       "[[26, 31, 32, 33, 34, 35],\n",
       " [5, 6, 7, 18, 20, 23, 24, 25, 27, 28, 29],\n",
       " [10, 11, 12, 14, 17, 19, 21, 22, 30],\n",
       " [0, 1, 2, 3, 4, 8, 9, 13, 15, 16]]"
      ]
     },
     "execution_count": 41,
     "metadata": {},
     "output_type": "execute_result"
    }
   ],
   "source": [
    "index"
   ]
  },
  {
   "cell_type": "code",
   "execution_count": 42,
   "metadata": {},
   "outputs": [
    {
     "name": "stdout",
     "output_type": "stream",
     "text": [
      "\n",
      "== Cluster 1 ===\n",
      "\n",
      "In 1945, Virtanen received the Nobel Prize in chemistry \"for his research and inventions in agricultural and nutrition chemistry\".\n",
      "The prestige conferred by the Nobel Prize brought Virtanen invitations, honorary doctorates and membership in foreign academies of science.\n",
      "He was a member of the Finnish, Norwegian, Swedish, Flemish, Bavarian, and Pontifical Academies of Science, and of the Swedish and Danish Academies of Engineering Sciences.\n",
      "He was an honorary member of learned societies in Finland, Sweden, Austria, Edinburgh, and the US, and received honorary degrees of the Universities of Lund, Paris, Giessen, and Helsinki, the Royal Technical College at Stockholm, and the Finland Institute of Technology.\n",
      "The asteroid 1449 Virtanen, discovered by the renowned Finnish astronomer and physicist Yrjö Väisälä, was named after him.\n",
      "The lunar crater Virtanen is also named after him.\n",
      "\n",
      "== Cluster 2 ===\n",
      "\n",
      "He saw in the overproduction of food only a temporary phenomenon.\n",
      "He lived a simple life, he never had a car of his own, never smoked and never consumed alcohol.\n",
      "He died of pneumonia in November 1973, following a broken femur from a fall few weeks prior.\n",
      "He was able to show that phosphorylation is the first step in many fermentation reactions, which was the foundation of the Embden–Meyerhof pathway.\n",
      "\n",
      "The improved methods of butter preservation, by adding disodium phosphate to prevent acidic hydrolysis.\n",
      "The method, patented in 1932, was basically a kind of silage that improved the storage of green fodder, which is important during long winters.\n",
      "The process includes adding dilute hydrochloric or sulfuric acid to newly stored grain.\n",
      "Increased acidity stops harmful fermentation and has no adverse effect on the nutritive value of the fodder or the animals it is fed to.\n",
      "His later years studies included the development of partially synthetic cattle feeds.\n",
      "The nitrogen for the synthesis of amino acids normally comes from proteins in the fodder.\n",
      "A special bacterial environment in the rumen of cattle allows them to use urea and ammonium salts as source for the nitrogen instead of plant proteins like soybean or meat and bone meal.\n",
      "\n",
      "== Cluster 3 ===\n",
      "\n",
      "In 1919 he started to work in the laboratories of Valio, a large producer of dairy products and became director of the laboratory in 1920.\n",
      "Feeling not fully qualified and following his interest in botany and zoology led him to further scientific education and so he left Valio and studied at the ETH, the University of Münster and the University of Stockholm he studied physical chemistry, soil chemistry and microbiology.\n",
      "In 1923 in Sweden he worked with Hans von Euler-Chelpin, who was awarded with the Nobel Prize in Chemistry in 1929.\n",
      "He worked in the laboratory of the Butter Export Association, which became a laboratory of the university.\n",
      "His research started with work on the phosphorylation of hexoses in 1924.\n",
      "In 1925 his interests shifted to the nitrogen-fixing bacteria in the root nodules of leguminous plants.\n",
      "This method was in use for several decades in Finland.\n",
      "His research from 1925 till 1932 included the invention of a fodder preservation method (AIV fodder).\n",
      "He also headed the Valio Laboratory from 1921 to 1969.\n",
      "\n",
      "== Cluster 4 ===\n",
      "\n",
      "Artturi Ilmari Virtanen was born on 15 January, 1895, in Helsinki, Finland .\n",
      "He is the son of Kaarlo Virtanen, a railway engine driver and Serafina Isotalo.\n",
      "He completed his school education at the Classical Lyceum in Viipuri, Finland.\n",
      "He married the botanist Lilja Moisio (1894-1972) in 1920 and had two sons with her.\n",
      "In 1933, he bought a farm near Helsinki where he tested some of his scientific results in practice.\n",
      "He was buried at the Hietaniemi Cemetery.\n",
      "Virtanen began his studies at the University of Helsinki in chemistry 1913 earning his Master and in 1918 his PhD in organic chemistry.\n",
      "Back in Finland he became lecturer at the University of Helsinki in 1924, known for his lectures on chemistry of life.\n",
      "In 1930 the Institute for Biochemistry was founded and Virtanen stayed there until his death in 1973.\n",
      "He became professor of biochemistry at the Helsinki University of Technology in 1931 and at the University of Helsinki in 1939.\n"
     ]
    }
   ],
   "source": [
    "for k in range(MAX_CLUSTERS):\n",
    "    print(f\"\\n== Cluster {k+1} ===\\n\")\n",
    "    for i in index[k]:\n",
    "        print(sents[i])"
   ]
  },
  {
   "cell_type": "code",
   "execution_count": null,
   "metadata": {},
   "outputs": [],
   "source": []
  }
 ],
 "metadata": {
  "kernelspec": {
   "display_name": "MLcourse",
   "language": "python",
   "name": "python3"
  },
  "language_info": {
   "codemirror_mode": {
    "name": "ipython",
    "version": 3
   },
   "file_extension": ".py",
   "mimetype": "text/x-python",
   "name": "python",
   "nbconvert_exporter": "python",
   "pygments_lexer": "ipython3",
   "version": "3.10.6"
  },
  "orig_nbformat": 4
 },
 "nbformat": 4,
 "nbformat_minor": 2
}
